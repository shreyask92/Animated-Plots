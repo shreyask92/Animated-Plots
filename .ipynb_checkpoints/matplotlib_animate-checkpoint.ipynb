{
 "cells": [
  {
   "cell_type": "code",
   "execution_count": 1,
   "metadata": {},
   "outputs": [],
   "source": [
    "%matplotlib inline"
   ]
  },
  {
   "cell_type": "code",
   "execution_count": 2,
   "metadata": {},
   "outputs": [],
   "source": [
    "## Required libraries\n",
    "import numpy as np\n",
    "import matplotlib.pyplot as plt\n",
    "import pandas as pd\n",
    "from matplotlib import animation, rc\n",
    "from IPython.display import HTML"
   ]
  },
  {
   "cell_type": "code",
   "execution_count": 3,
   "metadata": {},
   "outputs": [
    {
     "data": {
      "image/png": "[encoded data removed]",
      "text/plain": [
       "<Figure size 880x880 with 4 Axes>"
      ]
     },
     "metadata": {
      "needs_background": "light"
     },
     "output_type": "display_data"
    }
   ],
   "source": [
    "## change the values 2, 2 as desired, it represents the number of rows and columns\n",
    "fig, ax = plt.subplots(2, 2, figsize=(11, 11))\n",
    "## cange dpi value to inc/dec the quality of the video\n",
    "fig.dpi = 80"
   ]
  },
  {
   "cell_type": "code",
   "execution_count": 4,
   "metadata": {},
   "outputs": [],
   "source": [
    "df = pd.read_csv(\"Data/data.csv\")\n",
    "\n",
    "## The plot on the top left has the index [0,0], the index then follows that of a common matrix\n",
    "line1, = ax[0,0].plot([], [], color=\"red\")\n",
    "line2, = ax[0,1].plot([], [], color=\"green\")\n",
    "line3, = ax[1,0].plot([], [], color=\"orange\")\n",
    "line4, = ax[1,1].plot([], [], color=\"blue\")\n",
    "\n",
    "line = [line1, line2, line3, line4]"
   ]
  },
  {
   "cell_type": "code",
   "execution_count": 5,
   "metadata": {},
   "outputs": [],
   "source": [
    "# initialization function: plot the background of each frame\n",
    "def init():\n",
    "    for l in line:\n",
    "        l.set_data([], [])\n",
    "    return line"
   ]
  },
  {
   "cell_type": "code",
   "execution_count": 6,
   "metadata": {},
   "outputs": [],
   "source": [
    "# animation function. This is called sequentially\n",
    "def animate(i):\n",
    "    interval = 100\n",
    "    i *=interval\n",
    "    for j in range(1,5):\n",
    "        x = df.iloc[i:(i+interval),0].values\n",
    "        y = df.iloc[i:(i+interval),j].values\n",
    "        idx = 1\n",
    "        if j <= 2:\n",
    "            idx = 0\n",
    "        ax[idx,(j+1)%2].set_xlim(i,i+interval)\n",
    "        ax[idx,(j+1)%2].set_ylim((df.iloc[:,j].min(), df.iloc[:,j].max()))\n",
    "        line[j-1].set_data(x,y)\n",
    "    return line"
   ]
  },
  {
   "cell_type": "code",
   "execution_count": 7,
   "metadata": {},
   "outputs": [],
   "source": [
    "# call the animator. blit=True means only re-draw the parts that have changed.\n",
    "anim = animation.FuncAnimation(fig, animate, init_func=init,\n",
    "                               frames=426, interval=1000, blit=True)"
   ]
  },
  {
   "cell_type": "code",
   "execution_count": null,
   "metadata": {},
   "outputs": [],
   "source": [
    "HTML(anim.to_html5_video())"
   ]
  }
 ],
 "metadata": {
  "kernelspec": {
   "display_name": "Python 3",
   "language": "python",
   "name": "python3"
  },
  "language_info": {
   "codemirror_mode": {
    "name": "ipython",
    "version": 3
   },
   "file_extension": ".py",
   "mimetype": "text/x-python",
   "name": "python",
   "nbconvert_exporter": "python",
   "pygments_lexer": "ipython3",
   "version": "3.5.6"
  }
 },
 "nbformat": 4,
 "nbformat_minor": 2
}
